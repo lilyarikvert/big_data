{
 "cells": [
  {
   "cell_type": "markdown",
   "id": "71d87588",
   "metadata": {},
   "source": [
    "### Создайте numpy array с элементами от числа N до 0. Например, для N = 10 это будет array ([9, 8, 7, 6, 5, 4, 3, 2, 1, 0])."
   ]
  },
  {
   "cell_type": "code",
   "execution_count": 2,
   "id": "343eb026",
   "metadata": {},
   "outputs": [],
   "source": [
    "import numpy as np"
   ]
  },
  {
   "cell_type": "code",
   "execution_count": 12,
   "id": "a4ae629c",
   "metadata": {},
   "outputs": [
    {
     "data": {
      "text/plain": [
       "array([10,  9,  8,  7,  6,  5,  4,  3,  2,  1,  0])"
      ]
     },
     "execution_count": 12,
     "metadata": {},
     "output_type": "execute_result"
    }
   ],
   "source": [
    "x = np.arange(10, -1, -1)\n",
    "x"
   ]
  },
  {
   "cell_type": "markdown",
   "id": "4fd3595b",
   "metadata": {},
   "source": [
    "### Создайте диагональную матрицу с элементами от N до 0. Посчитайте сумму её значений на диагонали."
   ]
  },
  {
   "cell_type": "code",
   "execution_count": 16,
   "id": "825002f4",
   "metadata": {},
   "outputs": [
    {
     "data": {
      "text/plain": [
       "55"
      ]
     },
     "execution_count": 16,
     "metadata": {},
     "output_type": "execute_result"
    }
   ],
   "source": [
    "y = np.diag(np.arange(10,-1,-1), k = 0)\n",
    "np.sum(y.ravel())"
   ]
  },
  {
   "attachments": {
    "image.png": {
     "image/png": "[encoded data removed]"
    }
   },
   "cell_type": "markdown",
   "id": "f4db422e",
   "metadata": {},
   "source": [
    "Решите систему уравнений:\n",
    "\n",
    "![image.png](attachment:image.png)"
   ]
  },
  {
   "cell_type": "code",
   "execution_count": 25,
   "id": "ff41c9d7",
   "metadata": {},
   "outputs": [],
   "source": [
    "a = ([4,2,1], [1,3, 0], [0,5,4])\n",
    "b = ([4, 12, -3])"
   ]
  },
  {
   "cell_type": "code",
   "execution_count": 20,
   "id": "58955a26",
   "metadata": {},
   "outputs": [],
   "source": [
    "from numpy import linalg"
   ]
  },
  {
   "cell_type": "code",
   "execution_count": 22,
   "id": "0612993f",
   "metadata": {},
   "outputs": [
    {
     "data": {
      "text/plain": [
       "array([ 0.46666667,  3.84444444, -5.55555556])"
      ]
     },
     "execution_count": 22,
     "metadata": {},
     "output_type": "execute_result"
    }
   ],
   "source": [
    "result = linalg.solve(a,b)\n",
    "result"
   ]
  },
  {
   "cell_type": "code",
   "execution_count": 23,
   "id": "223c7280",
   "metadata": {},
   "outputs": [
    {
     "data": {
      "text/plain": [
       "True"
      ]
     },
     "execution_count": 23,
     "metadata": {},
     "output_type": "execute_result"
    }
   ],
   "source": [
    "# проверка верности\n",
    "\n",
    "np.allclose( np.dot(a, linalg.solve(a, b)), b )"
   ]
  },
  {
   "cell_type": "markdown",
   "id": "d8cdaa49",
   "metadata": {},
   "source": [
    "### Дополнительно\n",
    "Имеется матрица покупок в интернет-магазине. Столбец А - ID пользователя. Остальные столбцы - количество покупок категорий товаров этим пользователем:"
   ]
  },
  {
   "cell_type": "code",
   "execution_count": 27,
   "id": "8fa389d4",
   "metadata": {},
   "outputs": [],
   "source": [
    "users_stats = np.array(\n",
    "    [\n",
    "        [2, 1, 0, 0, 0, 0],\n",
    "        [1, 1, 2, 1, 0, 0],\n",
    "        [2, 0, 1, 0, 0, 0],\n",
    "        [1, 1, 2, 1, 0, 1],\n",
    "        [0, 0, 1, 2, 0, 0],\n",
    "        [0, 0, 0, 0, 0, 5],\n",
    "        [1, 0, 0, 0, 0, 0],\n",
    "        [0, 1, 1, 0, 0, 0],\n",
    "        [0, 0, 0, 1, 1, 3],\n",
    "        [1, 0, 0, 2, 1, 4]\n",
    "    ], \n",
    "    np.int32\n",
    ")"
   ]
  },
  {
   "cell_type": "markdown",
   "id": "42d1f2e7",
   "metadata": {},
   "source": [
    "На сайт заходит очередной посетитель, о покупках которого известно следующее:"
   ]
  },
  {
   "cell_type": "code",
   "execution_count": 29,
   "id": "3cbeb0e9",
   "metadata": {},
   "outputs": [],
   "source": [
    "next_user_stats = np.array([0, 1, 2, 0, 0, 0])"
   ]
  },
  {
   "cell_type": "markdown",
   "id": "0c03a838",
   "metadata": {},
   "source": [
    "Найдите самого похожего пользователя. Т. е. посчитайте косинусное сходство между этим пользователем и всеми пользователями из массива user_stats"
   ]
  },
  {
   "cell_type": "code",
   "execution_count": 32,
   "id": "8e5d53e9",
   "metadata": {},
   "outputs": [
    {
     "name": "stdout",
     "output_type": "stream",
     "text": [
      "Самый похожий пользователь на нового посетителя (по косинусному сходству) имеет ID: 8\n",
      "Его покупки: [0 1 1 0 0 0]\n"
     ]
    }
   ],
   "source": [
    "from numpy.linalg import norm\n",
    "\n",
    "# Создаем список для хранения косинусных сходств\n",
    "similar_users = []\n",
    "\n",
    "# Вычисляем косинусное сходство \n",
    "for user_stat in users_stats:\n",
    "    cosine_similarity = np.dot(next_user_stats, user_stat) / (norm(next_user_stats) * norm(user_stat))\n",
    "    similar_users.append(cosine_similarity)\n",
    "\n",
    "# наибольшее косинусное сходство\n",
    "most_similar_index = np.argmax(similar_users)\n",
    "\n",
    "# Находим самого похожего пользователя\n",
    "most_similar_user = users_stats[most_similar_index]\n",
    "\n",
    "print(f\"Самый похожий пользователь на нового посетителя имеет ID: {most_similar_index + 1}\")\n",
    "print(f\"Его покупки: {most_similar_user}\")\n"
   ]
  },
  {
   "cell_type": "code",
   "execution_count": null,
   "id": "f392544e",
   "metadata": {},
   "outputs": [],
   "source": []
  }
 ],
 "metadata": {
  "kernelspec": {
   "display_name": "Python 3 (ipykernel)",
   "language": "python",
   "name": "python3"
  },
  "language_info": {
   "codemirror_mode": {
    "name": "ipython",
    "version": 3
   },
   "file_extension": ".py",
   "mimetype": "text/x-python",
   "name": "python",
   "nbconvert_exporter": "python",
   "pygments_lexer": "ipython3",
   "version": "3.9.13"
  }
 },
 "nbformat": 4,
 "nbformat_minor": 5
}
